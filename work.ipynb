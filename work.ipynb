{
 "cells": [
  {
   "cell_type": "markdown",
   "metadata": {},
   "source": [
    "Testing And Debugging is a crtical phases in the software development cycle. Types of Testing and Debugging include Boundary testing, Path coverage testing and faulty and abnormal data testing. Boundary testing is a technqiues use to identify errors at the boundaries of input ranges, helping uncover issues that may not be evident when testing with normal ranges. For example if a program accepts between 1-6 and the user inputs 7, it will uncover an error. Path Coverage is another technqiue which identify all the possible options, helps identify logical error or condition that might not triggered under normal circumstances, covering all possible execution paths. For example, it a citzen taps his opal card, Path coverage testing scan through all possible option and matches it with the right condition. Faulty and Abnormal Data is another techniques whuch identifies how well a program handles invalid or unexpected inputs. For example if a program only accepts addition and subtraction and the user inputs multiplication, it will output and error"
   ]
  },
  {
   "cell_type": "code",
   "execution_count": null,
   "metadata": {},
   "outputs": [],
   "source": [
    "def is_safe_temperature(temp):\n",
    "    return 0 <= temp <= 100\n",
    "\n",
    "# TODO: Write test cases for boundary values\n",
    "print(is_safe_temperature(-1))  #True\n",
    "print(is_safe_temperature(0))   #True\n",
    "print(is_safe_temperature(100)) #True\n",
    "print(is_safe_temperature(101)) #True\n"
   ]
  },
  {
   "cell_type": "code",
   "execution_count": null,
   "metadata": {},
   "outputs": [],
   "source": [
    "def ticket_price(age):\n",
    "    if age < 5:\n",
    "        return \"Free\"\n",
    "    elif 5 <= age <= 17:\n",
    "        return \"$5\"\n",
    "    elif 18 <= age <= 64:\n",
    "        return \"$10\"\n",
    "    else:\n",
    "        return \"Senior Discount - $7\"\n",
    "\n",
    "# TODO: Write test cases for all paths\n",
    "print(ticket_price(2))  #Free\n",
    "print(ticket_price(6))  #$5\n",
    "print(ticket_price(38)) #$10"
   ]
  },
  {
   "cell_type": "code",
   "execution_count": null,
   "metadata": {},
   "outputs": [],
   "source": [
    "def divide_numbers(a, b):\n",
    "    try:\n",
    "        return a / b\n",
    "    except ZeroDivisionError:\n",
    "        return \"Error: Cannot divide by zero\"\n",
    "    except TypeError:\n",
    "        return \"Error: Invalid input, numbers required\"\n",
    "\n",
    "# TODO: Write test cases for abnormal and faulty inputs\n",
    "print(divide_numbers(30,2))     #15.0\n",
    "print(divide_numbers(30,0))     #Error: Cannot divide by zero\n",
    "print(divide_numbers(30,'10'))  #Error: Invalid input, number required"
   ]
  },
  {
   "cell_type": "markdown",
   "metadata": {},
   "source": [
    "Testing in Software in important, identifying  and fix defects or issues in the software. Unit testing is normally automated and focuses on individual componenets or funtion with a software application, tested in isolation to verify that it works as intended. Unit testing is normally idenify early, so they can be corrected before they are integrated with other part of the program. Integration Testing is normally after unit testing invovles combining components together, ensuring that they code produces the desired outcomes. Integration testing ensures that different components of the software function together. System Testing is when the whole software is tested, ensure that it meets the specific requriements and functions. System testing test the software functionally, performance, security and compatibilty before it is released to end-users"
   ]
  },
  {
   "cell_type": "code",
   "execution_count": null,
   "metadata": {},
   "outputs": [],
   "source": [
    "def calculate_area(radius):\n",
    "    area = 3.14 x radius x 2\n",
    "    return area\n",
    "\n",
    "print(calculate_area(5))\n",
    "print(calculate_area(3))\n",
    "\n",
    "#The type of error is a syntax error. the developer has tried to multiply using x which is why the code output a syntax eror. to multiply you must use *"
   ]
  },
  {
   "cell_type": "code",
   "execution_count": null,
   "metadata": {},
   "outputs": [],
   "source": [
    "def calculate_area(length, width):\n",
    "    return length + width\n",
    "\n",
    "area = calculate_area(5, 3)\n",
    "print(f\"Area: {area}\")\n",
    "\n",
    "#The type of error is a logical error. the developer has used the wrote symbol + instead of * which is why the code output a logical error"
   ]
  },
  {
   "cell_type": "code",
   "execution_count": null,
   "metadata": {},
   "outputs": [],
   "source": [
    "def divide(a, b):\n",
    "    return a / b\n",
    "\n",
    "result = divide(10, 0)\n",
    "print(result)\n",
    "\n",
    "#The type of error is a run-time error. the developer has tried to divide by a zero resulting in a run-time error"
   ]
  },
  {
   "cell_type": "code",
   "execution_count": null,
   "metadata": {},
   "outputs": [],
   "source": [
    "for i in range(5)\n",
    "    print(i)\n",
    "\n",
    "#The type of error is a syntax error. the developer has left out a semi colon resulting in a syntax error"
   ]
  },
  {
   "cell_type": "code",
   "execution_count": null,
   "metadata": {},
   "outputs": [],
   "source": [
    "def calculate_average(numbers):\n",
    "    total = sum(numbers)\n",
    "    return total - len(numbers)\n",
    "\n",
    "numbers = [10, 20, 30, 40]\n",
    "average = calculate_average(numbers)\n",
    "print(f\"Average: {average}\")\n",
    "\n",
    "#The type of error is a logical error. the developer subtracted the total instead of dividing which lead to a logical error"
   ]
  },
  {
   "cell_type": "code",
   "execution_count": null,
   "metadata": {},
   "outputs": [],
   "source": [
    "def calculate_area(diameter):\n",
    "    return math.pi * diameter ** 2\n",
    "\n",
    "print(calculate_area(5))\n",
    "\n",
    "#The type of error is a runtime error, the developer has forgotten to define math as variable resulting in a runtime error"
   ]
  }
 ],
 "metadata": {
  "kernelspec": {
   "display_name": "Python 3",
   "language": "python",
   "name": "python3"
  },
  "language_info": {
   "codemirror_mode": {
    "name": "ipython",
    "version": 3
   },
   "file_extension": ".py",
   "mimetype": "text/x-python",
   "name": "python",
   "nbconvert_exporter": "python",
   "pygments_lexer": "ipython3",
   "version": "3.11.9"
  },
  "orig_nbformat": 4
 },
 "nbformat": 4,
 "nbformat_minor": 2
}
